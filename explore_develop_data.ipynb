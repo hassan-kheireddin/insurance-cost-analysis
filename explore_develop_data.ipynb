{
 "cells": [
  {
   "cell_type": "code",
   "execution_count": null,
   "id": "fd294864",
   "metadata": {},
   "outputs": [],
   "source": [
    "def load_csv(filepath):\n",
    "\n",
    "    try:\n",
    "        df = pd.read_csv(filepath)\n",
    "        print(\"Data loaded successfully!\")\n",
    "        return df\n",
    "    except Exception as e:\n",
    "        print(f\"Failed to load CSV: {e}\")\n",
    "        return None\n",
    "# Example usage\n",
    "df = load_csv('cleaned_data.csv')\n",
    "print(data.head())  # Show first 5 rows"
   ]
  },
  {
   "cell_type": "code",
   "execution_count": null,
   "id": "882cdd21",
   "metadata": {},
   "outputs": [],
   "source": [
    "#regression plot for charges with respect to bmi\n",
    "sns.regplot(x='bmi', y='charges', data=df, line_kws={'color': 'red'})\n",
    "plt.ylim(0,)"
   ]
  },
  {
   "cell_type": "code",
   "execution_count": null,
   "id": "bb3e8e67",
   "metadata": {},
   "outputs": [],
   "source": [
    "#boxplot for charges with respect to smoker\n",
    "sns.boxplot(x='smoker', y='charges', data=df)"
   ]
  },
  {
   "cell_type": "code",
   "execution_count": null,
   "id": "a654f617",
   "metadata": {},
   "outputs": [],
   "source": [
    "#correlation\n",
    "corr = df.corr()"
   ]
  },
  {
   "cell_type": "markdown",
   "id": "dfa836ed",
   "metadata": {},
   "source": [
    "Fit a linear regression model that may be used to predict the `charges` value, just by using the `smoker` attribute of the dataset."
   ]
  },
  {
   "cell_type": "code",
   "execution_count": null,
   "id": "6b8b7e06",
   "metadata": {},
   "outputs": [],
   "source": [
    "X = df[['smoker']]\n",
    "Y = df['charges']\n",
    "lm = LinearRegression()\n",
    "lm.fit(X,Y)\n",
    "print(lm.score(X, Y))"
   ]
  },
  {
   "cell_type": "code",
   "execution_count": null,
   "id": "108b7f11",
   "metadata": {},
   "outputs": [],
   "source": [
    "Z = df[[\"age\", \"gender\", \"bmi\", \"children\", \"smoker\", \"region\"]]\n",
    "lm.fit(Z,Y)\n",
    "print(lm.score(Z, Y))"
   ]
  },
  {
   "cell_type": "markdown",
   "id": "abb426af",
   "metadata": {},
   "source": [
    "create a model that can predict the `charges` value using all the other attributes of the dataset. There should be even further improvement in the performance."
   ]
  },
  {
   "cell_type": "code",
   "execution_count": null,
   "id": "68362d79",
   "metadata": {},
   "outputs": [],
   "source": [
    "Input=[('scale',StandardScaler()), ('polynomial', PolynomialFeatures(include_bias=False)), ('model', LinearRegression())]\n",
    "pipe=Pipeline(Input)\n",
    "Z = Z.astype(float)\n",
    "pipe.fit(Z,Y)\n",
    "ypipe=pipe.predict(Z)\n",
    "print(r2_score(Y,ypipe))"
   ]
  },
  {
   "cell_type": "markdown",
   "id": "91d8aee8",
   "metadata": {},
   "source": [
    "`Model Refinement`"
   ]
  },
  {
   "cell_type": "code",
   "execution_count": null,
   "id": "0e9a4265",
   "metadata": {},
   "outputs": [],
   "source": [
    "x_train, x_test, y_train, y_test = train_test_split(Z, Y, test_size=0.2, random_state=1)"
   ]
  },
  {
   "cell_type": "code",
   "execution_count": null,
   "id": "821d22c4",
   "metadata": {},
   "outputs": [],
   "source": [
    "RidgeModel=Ridge(alpha=0.1)\n",
    "RidgeModel.fit(x_train, y_train)\n",
    "yhat = RidgeModel.predict(x_test)\n",
    "print(r2_score(y_test,yhat))"
   ]
  },
  {
   "cell_type": "code",
   "execution_count": null,
   "id": "ceecd858",
   "metadata": {},
   "outputs": [],
   "source": [
    "pr = PolynomialFeatures(degree=2)\n",
    "x_train_pr = pr.fit_transform(x_train)\n",
    "x_test_pr = pr.transform(x_test)\n",
    "RidgeModel.fit(x_train_pr, y_train)\n",
    "y_hat = RidgeModel.predict(x_test_pr)\n",
    "print(r2_score(y_test,y_hat))"
   ]
  }
 ],
 "metadata": {
  "language_info": {
   "name": "python"
  }
 },
 "nbformat": 4,
 "nbformat_minor": 5
}
