{
 "cells": [
  {
   "cell_type": "markdown",
   "id": "6f130ee5",
   "metadata": {},
   "source": [
    "import pandas as pd<br>\n",
    "import matplotlib.pyplot as plt<br>\n",
    "import numpy as np<br>"
   ]
  },
  {
   "cell_type": "code",
   "execution_count": null,
   "id": "8358ec71",
   "metadata": {},
   "outputs": [],
   "source": [
    "from pyodide.http import pyfetch\n",
    "\n",
    "async def download(url, filename):\n",
    "    response = await pyfetch(url)\n",
    "    if response.status == 200:\n",
    "        with open(filename, \"wb\") as f:\n",
    "            f.write(await response.bytes())"
   ]
  },
  {
   "cell_type": "code",
   "execution_count": null,
   "id": "66990e19",
   "metadata": {},
   "outputs": [],
   "source": [
    "file_path = 'https://cf-courses-data.s3.us.cloud-object-storage.appdomain.cloud/IBMDeveloperSkillsNetwork-DA0101EN-Coursera/medical_insurance_dataset.csv'"
   ]
  },
  {
   "cell_type": "code",
   "execution_count": null,
   "id": "7300763f",
   "metadata": {},
   "outputs": [],
   "source": [
    "await download(file_path, 'medical_insurance_dataset.csv')\n",
    "file_name = 'medical_insurance_dataset.csv'"
   ]
  },
  {
   "cell_type": "code",
   "execution_count": null,
   "id": "c049e12e",
   "metadata": {},
   "outputs": [],
   "source": [
    "df = pd.read_csv(file_name, header = None)\n",
    "df.head(10)"
   ]
  },
  {
   "cell_type": "code",
   "execution_count": null,
   "id": "31e4e238",
   "metadata": {},
   "outputs": [],
   "source": [
    "header = [\"age\", \"gender\", \"bmi\", \"children\", \"smoker\", \"region\", \"charges\"]\n",
    "df.columns = header"
   ]
  },
  {
   "cell_type": "code",
   "execution_count": null,
   "id": "247d488b",
   "metadata": {},
   "outputs": [],
   "source": [
    "df.replace('?', np.nan, inplace=True) #used to replace ? values with nan values"
   ]
  },
  {
   "cell_type": "code",
   "execution_count": null,
   "id": "29ed360c",
   "metadata": {},
   "outputs": [],
   "source": [
    "print(df.info()) #used for check the null values or NAN in each cell"
   ]
  },
  {
   "cell_type": "code",
   "execution_count": null,
   "id": "ad7b56da",
   "metadata": {},
   "outputs": [],
   "source": [
    "smokers = df['smoker'].value_counts().idxmax()\n",
    "df[\"smoker\"].replace(np.nan, smokers, inplace=True) #used to replace nan values with smokers value"
   ]
  },
  {
   "cell_type": "code",
   "execution_count": null,
   "id": "268f42e5",
   "metadata": {},
   "outputs": [],
   "source": [
    "ages = df['age'].astype('float').mean(axis = 0)\n",
    "df[\"age\"].replace(np.nan, ages, inplace=True) #used to replace nan values with ages value"
   ]
  },
  {
   "cell_type": "code",
   "execution_count": null,
   "id": "808dbbe2",
   "metadata": {},
   "outputs": [],
   "source": [
    "df[[\"age\", \"smoker\"]] = df[[\"age\", \"smoker\"]].astype(\"int\")"
   ]
  },
  {
   "cell_type": "code",
   "execution_count": null,
   "id": "3f3dfe28",
   "metadata": {},
   "outputs": [],
   "source": [
    "df[[\"charges\"]] = np.round(df[[\"charges\"]], 2)"
   ]
  },
  {
   "cell_type": "code",
   "execution_count": null,
   "id": "1676ab8d",
   "metadata": {},
   "outputs": [],
   "source": [
    "print(df.info()) #used for check the null values or NAN in each cell\n",
    "print(df.head(10)) #used to print the first 10 rows of the dataset"
   ]
  },
  {
   "cell_type": "code",
   "execution_count": null,
   "id": "2d139fdf",
   "metadata": {},
   "outputs": [],
   "source": [
    "df.to_csv('medical_insurance_dataset_cleaned.csv', index=False) #used to save the cleaned dataset"
   ]
  }
 ],
 "metadata": {
  "kernelspec": {
   "display_name": "Python 3",
   "language": "python",
   "name": "python3"
  },
  "language_info": {
   "codemirror_mode": {
    "name": "ipython",
    "version": 3
   },
   "file_extension": ".py",
   "mimetype": "text/x-python",
   "name": "python",
   "nbconvert_exporter": "python",
   "pygments_lexer": "ipython3",
   "version": "3.11.9"
  }
 },
 "nbformat": 4,
 "nbformat_minor": 5
}
